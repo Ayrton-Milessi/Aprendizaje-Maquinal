{
 "cells": [
  {
   "cell_type": "code",
   "execution_count": 10,
   "metadata": {},
   "outputs": [],
   "source": [
    "import numpy as np\n",
    "import pandas as pd\n",
    "from collections import Counter\n",
    "from sklearn.datasets import load_iris\n",
    "from sklearn.model_selection import train_test_split"
   ]
  },
  {
   "cell_type": "code",
   "execution_count": 11,
   "metadata": {},
   "outputs": [],
   "source": [
    "df_iris = load_iris(as_frame=True).frame\n",
    "X = df_iris[ ['petal length (cm)', 'petal width (cm)'] ]\n",
    "y = df_iris.target"
   ]
  },
  {
   "cell_type": "code",
   "execution_count": 12,
   "metadata": {},
   "outputs": [
    {
     "name": "stdout",
     "output_type": "stream",
     "text": [
      "Class labels: [0 1 2]\n"
     ]
    }
   ],
   "source": [
    "print('Class labels:', np.unique(y))"
   ]
  },
  {
   "cell_type": "code",
   "execution_count": 13,
   "metadata": {},
   "outputs": [],
   "source": [
    "X_train, X_test, y_train, y_test = train_test_split(X, y, test_size=0.3, shuffle=True, random_state=1,  stratify = y)"
   ]
  },
  {
   "cell_type": "code",
   "execution_count": 14,
   "metadata": {},
   "outputs": [],
   "source": [
    "# Normalización de los datos\n",
    "from sklearn.preprocessing import StandardScaler\n",
    "sc = StandardScaler()\n",
    "sc.fit(X_train)\n",
    "X_train_std = sc.transform(X_train)\n",
    "X_test_std = sc.transform(X_test)"
   ]
  },
  {
   "cell_type": "code",
   "execution_count": 15,
   "metadata": {},
   "outputs": [],
   "source": [
    "class KNN:\n",
    "    \"\"\"Clasificador KNN.\n",
    "\n",
    "    Parámetros\n",
    "    ------------\n",
    "    k : int\n",
    "        número de vecinos cercanos\n",
    "    p : int\n",
    "        valor para selección de métrica (1: Manhattan, 2: Euclídea)\n",
    "    \"\"\"\n",
    "\n",
    "    def __init__(self, k=3, p=2):\n",
    "        self.k = k\n",
    "        self.p = p\n",
    "\n",
    "    def distancia(self, vec_1, vec_2, p=2):\n",
    "        dim = len(vec_1)\n",
    "        distance=0\n",
    "\n",
    "        for d in range(dim):\n",
    "            distance += (abs(vec_1[d]-vec_2[d]))**p\n",
    "\n",
    "        distance = (distance)**(1/p)\n",
    "        return distance\n",
    "\n",
    "    def fit(self, X, y):\n",
    "        \"\"\"Entrenamiento del clasificador kNN, es un algoritmo 'perezoso'\n",
    "        sólo almacena los datos y sus etiquetas\n",
    "        Parameters\n",
    "        ----------\n",
    "        X : array\n",
    "            vector de características.\n",
    "        y : array\n",
    "            clases asociadas a los datos.\n",
    "        \"\"\"\n",
    "        self.X = np.array(X)\n",
    "        self.y = np.array(y)\n",
    "        self.n_datos = X.shape[0]\n",
    "\n",
    "    def predict(self, x):\n",
    "        \"\"\"Función que realiza la predicción.\n",
    "        Parameters\n",
    "        ----------\n",
    "        x : array\n",
    "            vector de patrones de entrada.\n",
    "\n",
    "        Returns\n",
    "        -------\n",
    "        vector de predicciones.\n",
    "        \"\"\"\n",
    "        y_pred = []\n",
    "\n",
    "        for punto_prueba in x:\n",
    "            #----------------------------------\n",
    "            distancias = np.empty(self.n_datos)\n",
    "\n",
    "            for n in range(self.n_datos):\n",
    "                distancias[n] = self.distancia(punto_prueba, self.X[n, :])\n",
    "\n",
    "            # Obtener los índices de las k menores distancias\n",
    "            k_indices = np.argsort(distancias)[:self.k]\n",
    "\n",
    "            # Obtener las etiquetas correspondientes a los k vecinos más cercanos\n",
    "            k_etiquetas = self.y[k_indices]\n",
    "\n",
    "            # Contar las etiquetas más comunes\n",
    "            c = Counter(k_etiquetas).most_common(1)\n",
    "\n",
    "            # Añadir la etiqueta más común a las predicciones\n",
    "            y_pred.append(c[0][0])\n",
    "            #----------------------------------\n",
    "        return np.asarray(y_pred) #predicciones"
   ]
  },
  {
   "cell_type": "code",
   "execution_count": 16,
   "metadata": {},
   "outputs": [],
   "source": [
    "# Creamos un objeto knn usando la clase implementada\n",
    "knn = KNN(k=3)\n",
    "# llamamos al método de entrenamiento ---> Datos de entrenamiento\n",
    "knn.fit(X_train_std, y_train)"
   ]
  },
  {
   "cell_type": "code",
   "execution_count": 17,
   "metadata": {},
   "outputs": [
    {
     "data": {
      "text/plain": [
       "np.int64(45)"
      ]
     },
     "execution_count": 17,
     "metadata": {},
     "output_type": "execute_result"
    }
   ],
   "source": [
    "# Evaluamos el clasificador con los datos de prueba\n",
    "y_pred = knn.predict(X_test_std)\n",
    "# Comparamos nuestra predicción con los targets\n",
    "(y_pred==y_test).sum()"
   ]
  },
  {
   "cell_type": "code",
   "execution_count": 19,
   "metadata": {},
   "outputs": [
    {
     "ename": "ModuleNotFoundError",
     "evalue": "No module named 'modulos'",
     "output_type": "error",
     "traceback": [
      "\u001b[1;31m---------------------------------------------------------------------------\u001b[0m",
      "\u001b[1;31mModuleNotFoundError\u001b[0m                       Traceback (most recent call last)",
      "Cell \u001b[1;32mIn[19], line 2\u001b[0m\n\u001b[0;32m      1\u001b[0m \u001b[38;5;28;01mimport\u001b[39;00m \u001b[38;5;21;01mmatplotlib\u001b[39;00m\u001b[38;5;21;01m.\u001b[39;00m\u001b[38;5;21;01mpyplot\u001b[39;00m \u001b[38;5;28;01mas\u001b[39;00m \u001b[38;5;21;01mplt\u001b[39;00m\n\u001b[1;32m----> 2\u001b[0m \u001b[38;5;28;01mfrom\u001b[39;00m \u001b[38;5;21;01mmodulos\u001b[39;00m\u001b[38;5;21;01m.\u001b[39;00m\u001b[38;5;21;01mgraficacion\u001b[39;00m \u001b[38;5;28;01mimport\u001b[39;00m plot_decision_regions\n\u001b[0;32m      4\u001b[0m X_combined_std \u001b[38;5;241m=\u001b[39m np\u001b[38;5;241m.\u001b[39mvstack((X_train_std, X_test_std))\n\u001b[0;32m      5\u001b[0m y_combined \u001b[38;5;241m=\u001b[39m np\u001b[38;5;241m.\u001b[39mhstack((y_train, y_test))\n",
      "\u001b[1;31mModuleNotFoundError\u001b[0m: No module named 'modulos'"
     ]
    }
   ],
   "source": [
    "import matplotlib.pyplot as plt\n",
    "from modulos.graficacion import plot_decision_regions\n",
    "\n",
    "X_combined_std = np.vstack((X_train_std, X_test_std))\n",
    "y_combined = np.hstack((y_train, y_test))\n",
    "plt.figure(figsize=(8,6))\n",
    "plot_decision_regions( X=X_combined_std, y=y_combined, clasificador=knn, test_idx=range(105, 150), resolution=0.05)\n",
    "plt.xlabel('longitud de pétalo [standardized]')\n",
    "plt.ylabel('ancho de pétalo [standardized]')\n",
    "plt.legend(loc='upper left')\n",
    "plt.tight_layout()\n",
    "plt.show()\n",
    "\n"
   ]
  }
 ],
 "metadata": {
  "kernelspec": {
   "display_name": "Python 3",
   "language": "python",
   "name": "python3"
  },
  "language_info": {
   "codemirror_mode": {
    "name": "ipython",
    "version": 3
   },
   "file_extension": ".py",
   "mimetype": "text/x-python",
   "name": "python",
   "nbconvert_exporter": "python",
   "pygments_lexer": "ipython3",
   "version": "3.11.9"
  }
 },
 "nbformat": 4,
 "nbformat_minor": 2
}
